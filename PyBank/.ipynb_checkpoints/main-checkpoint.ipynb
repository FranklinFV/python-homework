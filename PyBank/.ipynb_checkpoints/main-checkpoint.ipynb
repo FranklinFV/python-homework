{
 "cells": [
  {
   "cell_type": "code",
   "execution_count": 37,
   "id": "9ede1d9d-5f1e-4f39-82da-bc0654253cd3",
   "metadata": {},
   "outputs": [],
   "source": [
    "# # Unit 2 | Homework Assignment: Automate Your Day Job with Python\n",
    "\n",
    "# ## Background\n",
    "\n",
    "# You've made it! It's time to put away the Excel sheet and join the big leagues. Welcome to the world of programming with Python. In this homework assignment, you'll be using the concepts you've learned to complete the required PyBank Python activity, and if you wish to stretch your skills even further, the optional PyRamen Python activity. Both activities present a real-world situation in which your newfound Python skills will come in handy. These activities are far from easy, though, so expect some hard work ahead!\n",
    "\n",
    "# ## Before You Begin\n",
    "\n",
    "# 1. Create a new GitHub repo called `python-homework`. Then, clone it to your computer.\n",
    "\n"
   ]
  },
  {
   "cell_type": "code",
   "execution_count": 38,
   "id": "3554ce65-2cf3-430b-85ae-b5bb2ebf2561",
   "metadata": {},
   "outputs": [],
   "source": [
    "# 2. In your local git repository, create a directory for both of the Python activities. Use folder names that correspond to the activities: **PyBank** and **PyRamen**.\n",
    "\n",
    "# 3. In each folder you just created, add a new file called `main.ipynb`. Remember that to create this file you will need to use JupyterLab to correctly generate the .ipynb file format. This will be the main notebook to run for each analysis.\n",
    "\n",
    "# 4. Push the above changes to GitHub.\n",
    "\n",
    "# ## PyBank (Required)\n",
    "\n",
    "# ![Revenue](Images/revenue-per-lead.jpg)\n",
    "\n",
    "# In this activity, you are tasked with creating a Python script for analyzing the financial records of your company. You will be provided with a financial dataset in this file: [budget_data.csv](PyBank/Resources/budget_data.csv). This dataset is composed of two columns, Date and Profit/Losses. (Thankfully, your company has rather lax standards for accounting, so the records are simple.)\n",
    "\n"
   ]
  },
  {
   "cell_type": "code",
   "execution_count": null,
   "id": "752b0977-d490-42f0-bfb9-f10f497e43e3",
   "metadata": {},
   "outputs": [],
   "source": [
    "# Your task is to create a Python script that analyzes the records to calculate each of the following:\n",
    "\n",
    "# * The total number of months included in the dataset.\n"
   ]
  },
  {
   "cell_type": "code",
   "execution_count": 39,
   "id": "055b52d2-7f53-474d-88e0-e9bc9a26ce91",
   "metadata": {
    "tags": []
   },
   "outputs": [],
   "source": [
    "# 1. Import Panda Library\n",
    "import pandas as pd\n",
    "from pathlib import Path"
   ]
  },
  {
   "cell_type": "code",
   "execution_count": 41,
   "id": "2fa1846a-79b4-49e9-8175-2bbc7644948b",
   "metadata": {
    "tags": []
   },
   "outputs": [
    {
     "data": {
      "text/html": [
       "<div>\n",
       "<style scoped>\n",
       "    .dataframe tbody tr th:only-of-type {\n",
       "        vertical-align: middle;\n",
       "    }\n",
       "\n",
       "    .dataframe tbody tr th {\n",
       "        vertical-align: top;\n",
       "    }\n",
       "\n",
       "    .dataframe thead th {\n",
       "        text-align: right;\n",
       "    }\n",
       "</style>\n",
       "<table border=\"1\" class=\"dataframe\">\n",
       "  <thead>\n",
       "    <tr style=\"text-align: right;\">\n",
       "      <th></th>\n",
       "      <th>Date</th>\n",
       "      <th>Profit/Losses</th>\n",
       "    </tr>\n",
       "  </thead>\n",
       "  <tbody>\n",
       "    <tr>\n",
       "      <th>0</th>\n",
       "      <td>Jan-2010</td>\n",
       "      <td>867884</td>\n",
       "    </tr>\n",
       "    <tr>\n",
       "      <th>1</th>\n",
       "      <td>Feb-2010</td>\n",
       "      <td>984655</td>\n",
       "    </tr>\n",
       "    <tr>\n",
       "      <th>2</th>\n",
       "      <td>Mar-2010</td>\n",
       "      <td>322013</td>\n",
       "    </tr>\n",
       "    <tr>\n",
       "      <th>3</th>\n",
       "      <td>Apr-2010</td>\n",
       "      <td>-69417</td>\n",
       "    </tr>\n",
       "    <tr>\n",
       "      <th>4</th>\n",
       "      <td>May-2010</td>\n",
       "      <td>310503</td>\n",
       "    </tr>\n",
       "  </tbody>\n",
       "</table>\n",
       "</div>"
      ],
      "text/plain": [
       "       Date  Profit/Losses\n",
       "0  Jan-2010         867884\n",
       "1  Feb-2010         984655\n",
       "2  Mar-2010         322013\n",
       "3  Apr-2010         -69417\n",
       "4  May-2010         310503"
      ]
     },
     "execution_count": 41,
     "metadata": {},
     "output_type": "execute_result"
    }
   ],
   "source": [
    "# 2. Load CSV file\n",
    "csv_path = Path(\"Resources/budget_data.csv\")\n",
    "csv_data = pd.read_csv(csv_path)\n",
    "#(Optional)\n",
    "csv_data.head()"
   ]
  },
  {
   "cell_type": "code",
   "execution_count": 42,
   "id": "8f29fa61-4eb5-4def-83e9-120ac11a7822",
   "metadata": {},
   "outputs": [
    {
     "data": {
      "text/plain": [
       "(86, 2)"
      ]
     },
     "execution_count": 42,
     "metadata": {},
     "output_type": "execute_result"
    }
   ],
   "source": [
    "# (Optional) 3. Identify number of cells\n",
    "csv_data.shape"
   ]
  },
  {
   "cell_type": "code",
   "execution_count": 43,
   "id": "aaab4429-bd25-4d22-abda-2f945f275627",
   "metadata": {
    "tags": []
   },
   "outputs": [
    {
     "name": "stdout",
     "output_type": "stream",
     "text": [
      "Total Months: 86\n"
     ]
    }
   ],
   "source": [
    "# 4. Identify the number of months\n",
    "Total_Months = csv_data['Date'].count()\n",
    "print(f\"Total Months: {Total_Months}\")"
   ]
  },
  {
   "cell_type": "code",
   "execution_count": 44,
   "id": "a4d59eef-677d-495b-be1f-3ec82ed70a57",
   "metadata": {},
   "outputs": [
    {
     "name": "stdout",
     "output_type": "stream",
     "text": [
      "Total: $38382578\n"
     ]
    }
   ],
   "source": [
    "#* The net total amount of Profit/Losses over the entire period.\n",
    "Total = csv_data['Profit/Losses'].sum()\n",
    "print(f\"Total: ${Total}\")"
   ]
  },
  {
   "cell_type": "code",
   "execution_count": 45,
   "id": "39706d82-f990-4da4-a0f7-e534b06e8419",
   "metadata": {},
   "outputs": [
    {
     "data": {
      "text/html": [
       "<div>\n",
       "<style scoped>\n",
       "    .dataframe tbody tr th:only-of-type {\n",
       "        vertical-align: middle;\n",
       "    }\n",
       "\n",
       "    .dataframe tbody tr th {\n",
       "        vertical-align: top;\n",
       "    }\n",
       "\n",
       "    .dataframe thead th {\n",
       "        text-align: right;\n",
       "    }\n",
       "</style>\n",
       "<table border=\"1\" class=\"dataframe\">\n",
       "  <thead>\n",
       "    <tr style=\"text-align: right;\">\n",
       "      <th></th>\n",
       "      <th>Date</th>\n",
       "      <th>Profit/Losses</th>\n",
       "    </tr>\n",
       "    <tr>\n",
       "      <th>Date</th>\n",
       "      <th></th>\n",
       "      <th></th>\n",
       "    </tr>\n",
       "  </thead>\n",
       "  <tbody>\n",
       "    <tr>\n",
       "      <th>Jan-2010</th>\n",
       "      <td>Jan-2010</td>\n",
       "      <td>867884</td>\n",
       "    </tr>\n",
       "    <tr>\n",
       "      <th>Feb-2010</th>\n",
       "      <td>Feb-2010</td>\n",
       "      <td>984655</td>\n",
       "    </tr>\n",
       "    <tr>\n",
       "      <th>Mar-2010</th>\n",
       "      <td>Mar-2010</td>\n",
       "      <td>322013</td>\n",
       "    </tr>\n",
       "    <tr>\n",
       "      <th>Apr-2010</th>\n",
       "      <td>Apr-2010</td>\n",
       "      <td>-69417</td>\n",
       "    </tr>\n",
       "    <tr>\n",
       "      <th>May-2010</th>\n",
       "      <td>May-2010</td>\n",
       "      <td>310503</td>\n",
       "    </tr>\n",
       "  </tbody>\n",
       "</table>\n",
       "</div>"
      ],
      "text/plain": [
       "              Date  Profit/Losses\n",
       "Date                             \n",
       "Jan-2010  Jan-2010         867884\n",
       "Feb-2010  Feb-2010         984655\n",
       "Mar-2010  Mar-2010         322013\n",
       "Apr-2010  Apr-2010         -69417\n",
       "May-2010  May-2010         310503"
      ]
     },
     "execution_count": 45,
     "metadata": {},
     "output_type": "execute_result"
    }
   ],
   "source": [
    "#* The average of the changes in Profit/Losses over the entire period.\n",
    "  # Set Date as index\n",
    "  #csv_data.set_index(pd.to_datetime(csv_data['Date'],infer_datetime_format=True), inplace=True)\n",
    "  #csv_data.head()\n",
    "csv_data.set_index(csv_data['Date'], inplace=True)\n",
    "csv_data.head()"
   ]
  },
  {
   "cell_type": "code",
   "execution_count": 46,
   "id": "afd01d0d-be02-4194-93ba-46b0adb77f5e",
   "metadata": {},
   "outputs": [
    {
     "data": {
      "text/html": [
       "<div>\n",
       "<style scoped>\n",
       "    .dataframe tbody tr th:only-of-type {\n",
       "        vertical-align: middle;\n",
       "    }\n",
       "\n",
       "    .dataframe tbody tr th {\n",
       "        vertical-align: top;\n",
       "    }\n",
       "\n",
       "    .dataframe thead th {\n",
       "        text-align: right;\n",
       "    }\n",
       "</style>\n",
       "<table border=\"1\" class=\"dataframe\">\n",
       "  <thead>\n",
       "    <tr style=\"text-align: right;\">\n",
       "      <th></th>\n",
       "      <th>Profit/Losses</th>\n",
       "    </tr>\n",
       "    <tr>\n",
       "      <th>Date</th>\n",
       "      <th></th>\n",
       "    </tr>\n",
       "  </thead>\n",
       "  <tbody>\n",
       "    <tr>\n",
       "      <th>Jan-2010</th>\n",
       "      <td>867884</td>\n",
       "    </tr>\n",
       "    <tr>\n",
       "      <th>Feb-2010</th>\n",
       "      <td>984655</td>\n",
       "    </tr>\n",
       "    <tr>\n",
       "      <th>Mar-2010</th>\n",
       "      <td>322013</td>\n",
       "    </tr>\n",
       "    <tr>\n",
       "      <th>Apr-2010</th>\n",
       "      <td>-69417</td>\n",
       "    </tr>\n",
       "    <tr>\n",
       "      <th>May-2010</th>\n",
       "      <td>310503</td>\n",
       "    </tr>\n",
       "  </tbody>\n",
       "</table>\n",
       "</div>"
      ],
      "text/plain": [
       "          Profit/Losses\n",
       "Date                   \n",
       "Jan-2010         867884\n",
       "Feb-2010         984655\n",
       "Mar-2010         322013\n",
       "Apr-2010         -69417\n",
       "May-2010         310503"
      ]
     },
     "execution_count": 46,
     "metadata": {},
     "output_type": "execute_result"
    }
   ],
   "source": [
    "  # Drop the extra date column\n",
    "csv_data.drop(columns=['Date'], inplace=True)\n",
    "csv_data.head()"
   ]
  },
  {
   "cell_type": "code",
   "execution_count": 47,
   "id": "2476d38f-0902-4b4a-accd-ef96d24820dd",
   "metadata": {},
   "outputs": [
    {
     "data": {
      "text/html": [
       "<div>\n",
       "<style scoped>\n",
       "    .dataframe tbody tr th:only-of-type {\n",
       "        vertical-align: middle;\n",
       "    }\n",
       "\n",
       "    .dataframe tbody tr th {\n",
       "        vertical-align: top;\n",
       "    }\n",
       "\n",
       "    .dataframe thead th {\n",
       "        text-align: right;\n",
       "    }\n",
       "</style>\n",
       "<table border=\"1\" class=\"dataframe\">\n",
       "  <thead>\n",
       "    <tr style=\"text-align: right;\">\n",
       "      <th></th>\n",
       "      <th>Profit/Losses</th>\n",
       "      <th>PL Change</th>\n",
       "    </tr>\n",
       "    <tr>\n",
       "      <th>Date</th>\n",
       "      <th></th>\n",
       "      <th></th>\n",
       "    </tr>\n",
       "  </thead>\n",
       "  <tbody>\n",
       "    <tr>\n",
       "      <th>Jan-2010</th>\n",
       "      <td>867884</td>\n",
       "      <td>NaN</td>\n",
       "    </tr>\n",
       "    <tr>\n",
       "      <th>Feb-2010</th>\n",
       "      <td>984655</td>\n",
       "      <td>116771.0</td>\n",
       "    </tr>\n",
       "    <tr>\n",
       "      <th>Mar-2010</th>\n",
       "      <td>322013</td>\n",
       "      <td>-662642.0</td>\n",
       "    </tr>\n",
       "    <tr>\n",
       "      <th>Apr-2010</th>\n",
       "      <td>-69417</td>\n",
       "      <td>-391430.0</td>\n",
       "    </tr>\n",
       "    <tr>\n",
       "      <th>May-2010</th>\n",
       "      <td>310503</td>\n",
       "      <td>379920.0</td>\n",
       "    </tr>\n",
       "  </tbody>\n",
       "</table>\n",
       "</div>"
      ],
      "text/plain": [
       "          Profit/Losses  PL Change\n",
       "Date                              \n",
       "Jan-2010         867884        NaN\n",
       "Feb-2010         984655   116771.0\n",
       "Mar-2010         322013  -662642.0\n",
       "Apr-2010         -69417  -391430.0\n",
       "May-2010         310503   379920.0"
      ]
     },
     "execution_count": 47,
     "metadata": {},
     "output_type": "execute_result"
    }
   ],
   "source": [
    "  #Calculate the monthly changes in Profit/Losses\n",
    "#PNL_changes = csv_data - csv_data.shift(1)\n",
    "#PNL_changes.head()\n",
    "csv_data[\"PL Change\"] = csv_data[\"Profit/Losses\"] - csv_data[\"Profit/Losses\"].shift(1)\n",
    "csv_data.head()"
   ]
  },
  {
   "cell_type": "code",
   "execution_count": 48,
   "id": "2a2fd00d-203c-4dcc-9644-9b1a3632ad72",
   "metadata": {},
   "outputs": [
    {
     "name": "stdout",
     "output_type": "stream",
     "text": [
      "Average Change: -2315.1176470588234\n"
     ]
    }
   ],
   "source": [
    "  #Calculate Average changes in Profit/Losses\n",
    "Ave_PL_changes = csv_data['PL Change'].mean()\n",
    "print(f\"Average Change: {Ave_PL_changes}\")"
   ]
  },
  {
   "cell_type": "code",
   "execution_count": 49,
   "id": "749a6323-d9b3-4635-ace6-a7dba0490928",
   "metadata": {},
   "outputs": [
    {
     "name": "stdout",
     "output_type": "stream",
     "text": [
      "Average Change: -2315.12\n"
     ]
    }
   ],
   "source": [
    "  #Formatting the Average changes variable to 2 decimal points\n",
    "F_Ave_PL_changes='{0:.2f}'.format(Ave_PL_changes)\n",
    "print(f\"Average Change: {F_Ave_PL_changes}\")"
   ]
  },
  {
   "cell_type": "code",
   "execution_count": 50,
   "id": "6497de10-0af5-43ab-9a91-ed182f9ca30c",
   "metadata": {
    "tags": []
   },
   "outputs": [
    {
     "name": "stdout",
     "output_type": "stream",
     "text": [
      "Greatest Increase in Profits: ($1926159.0)\n"
     ]
    }
   ],
   "source": [
    "#* The greatest increase in profits (date and amount) over the entire period.\n",
    "#Find the amount of the largest increase\n",
    "Largest_increase = csv_data['PL Change'].max()\n",
    "print(f\"Greatest Increase in Profits: (${Largest_increase})\")"
   ]
  },
  {
   "cell_type": "code",
   "execution_count": 51,
   "id": "0b8befbd-ff24-4981-bb40-63d7b0c32482",
   "metadata": {},
   "outputs": [
    {
     "name": "stdout",
     "output_type": "stream",
     "text": [
      "Month and Year with the Greatest Increase in Profits: Feb-2012\n"
     ]
    }
   ],
   "source": [
    "#Find the date with the largest increase\n",
    "\n",
    "#1st define variable'x' and pull the index value\n",
    "x=csv_data.loc[csv_data['PL Change'] == Largest_increase]\n",
    "\n",
    "#How to print an index value from a list\n",
    "y=x.index.values\n",
    "y[0]\n",
    "print(f\"Month and Year with the Greatest Increase in Profits: {y[0]}\")"
   ]
  },
  {
   "cell_type": "code",
   "execution_count": 52,
   "id": "f4499a00-5e14-4bff-9987-8836a1d72a75",
   "metadata": {},
   "outputs": [
    {
     "name": "stdout",
     "output_type": "stream",
     "text": [
      "Greatest Increase in Profits: Feb-2012 ($1926159.0)\n"
     ]
    }
   ],
   "source": [
    "#* The greatest increase in profits (date and amount) over the entire period.\n",
    "\n",
    "print(f\"Greatest Increase in Profits: {y[0]} (${Largest_increase})\")"
   ]
  },
  {
   "cell_type": "code",
   "execution_count": 53,
   "id": "12abc6d1-83e5-4c57-b88a-8b7b31bbf8c1",
   "metadata": {},
   "outputs": [
    {
     "name": "stdout",
     "output_type": "stream",
     "text": [
      "Greatest increase in Profits: $1926159.0\n"
     ]
    }
   ],
   "source": [
    "#(Optional Step) Adifferent way to do it: Define a function called main that will print the increase/decrease\n",
    "def main(Largest_increase):\n",
    "    print(f\"Greatest increase in Profits: ${Largest_increase}\")\n",
    "main(Largest_increase)"
   ]
  },
  {
   "cell_type": "code",
   "execution_count": 54,
   "id": "3ffd9b6a-75c2-4943-af43-daf6dcc15f19",
   "metadata": {},
   "outputs": [
    {
     "data": {
      "text/html": [
       "<div>\n",
       "<style scoped>\n",
       "    .dataframe tbody tr th:only-of-type {\n",
       "        vertical-align: middle;\n",
       "    }\n",
       "\n",
       "    .dataframe tbody tr th {\n",
       "        vertical-align: top;\n",
       "    }\n",
       "\n",
       "    .dataframe thead th {\n",
       "        text-align: right;\n",
       "    }\n",
       "</style>\n",
       "<table border=\"1\" class=\"dataframe\">\n",
       "  <thead>\n",
       "    <tr style=\"text-align: right;\">\n",
       "      <th></th>\n",
       "      <th>Profit/Losses</th>\n",
       "      <th>PL Change</th>\n",
       "    </tr>\n",
       "    <tr>\n",
       "      <th>Date</th>\n",
       "      <th></th>\n",
       "      <th></th>\n",
       "    </tr>\n",
       "  </thead>\n",
       "  <tbody>\n",
       "    <tr>\n",
       "      <th>Feb-2012</th>\n",
       "      <td>1170593</td>\n",
       "      <td>1926159.0</td>\n",
       "    </tr>\n",
       "  </tbody>\n",
       "</table>\n",
       "</div>"
      ],
      "text/plain": [
       "          Profit/Losses  PL Change\n",
       "Date                              \n",
       "Feb-2012        1170593  1926159.0"
      ]
     },
     "execution_count": 54,
     "metadata": {},
     "output_type": "execute_result"
    }
   ],
   "source": [
    "#(OptionalStep) Slicing the dataframe to find the row with the largest increase (Step not necessary)\n",
    "csv_data.loc[csv_data['PL Change'] == Largest_increase]"
   ]
  },
  {
   "cell_type": "code",
   "execution_count": 55,
   "id": "a8e198b4-87af-4562-b258-5d9512ac570b",
   "metadata": {},
   "outputs": [
    {
     "name": "stdout",
     "output_type": "stream",
     "text": [
      "Greatest Decrease in Profits: ($-2196167.0)\n"
     ]
    }
   ],
   "source": [
    "#* The greatest decrease in losses (date and amount) over the entire period.\n",
    "#Find the amount of the largest decrease\n",
    "Largest_decrease = csv_data['PL Change'].min()\n",
    "print(f\"Greatest Decrease in Profits: (${Largest_decrease})\")\n"
   ]
  },
  {
   "cell_type": "code",
   "execution_count": 56,
   "id": "134aae0f-03be-45f3-8cb7-cc3bb568706d",
   "metadata": {},
   "outputs": [
    {
     "name": "stdout",
     "output_type": "stream",
     "text": [
      "Month and Year with the Greatest Decrease in Profits: Sep-2013\n"
     ]
    }
   ],
   "source": [
    "#Find the date with the largest decrease\n",
    "#1st define variable'z' and pull the index value\n",
    "z=csv_data.loc[csv_data['PL Change'] == Largest_decrease]\n",
    "#How to pull and print the index value\n",
    "v=z.index.values\n",
    "v[0]\n",
    "print(f\"Month and Year with the Greatest Decrease in Profits: {v[0]}\")"
   ]
  },
  {
   "cell_type": "code",
   "execution_count": 57,
   "id": "de00071d-61a0-4755-9c7f-8183ced88c7f",
   "metadata": {},
   "outputs": [
    {
     "name": "stdout",
     "output_type": "stream",
     "text": [
      "Greatest Decrease in Profits: Sep-2013 ($-2196167.0)\n"
     ]
    }
   ],
   "source": [
    "#* The greatest decrease in losses (date and amount) over the entire period.\n",
    "\n",
    "print(f\"Greatest Decrease in Profits: {v[0]} (${Largest_decrease})\")"
   ]
  },
  {
   "cell_type": "code",
   "execution_count": 58,
   "id": "7b92aa11-067c-4f7c-ba75-7a1bcf0f6920",
   "metadata": {},
   "outputs": [
    {
     "data": {
      "text/html": [
       "<div>\n",
       "<style scoped>\n",
       "    .dataframe tbody tr th:only-of-type {\n",
       "        vertical-align: middle;\n",
       "    }\n",
       "\n",
       "    .dataframe tbody tr th {\n",
       "        vertical-align: top;\n",
       "    }\n",
       "\n",
       "    .dataframe thead th {\n",
       "        text-align: right;\n",
       "    }\n",
       "</style>\n",
       "<table border=\"1\" class=\"dataframe\">\n",
       "  <thead>\n",
       "    <tr style=\"text-align: right;\">\n",
       "      <th></th>\n",
       "      <th>Profit/Losses</th>\n",
       "      <th>PL Change</th>\n",
       "    </tr>\n",
       "    <tr>\n",
       "      <th>Date</th>\n",
       "      <th></th>\n",
       "      <th></th>\n",
       "    </tr>\n",
       "  </thead>\n",
       "  <tbody>\n",
       "    <tr>\n",
       "      <th>Sep-2013</th>\n",
       "      <td>-1196225</td>\n",
       "      <td>-2196167.0</td>\n",
       "    </tr>\n",
       "  </tbody>\n",
       "</table>\n",
       "</div>"
      ],
      "text/plain": [
       "          Profit/Losses  PL Change\n",
       "Date                              \n",
       "Sep-2013       -1196225 -2196167.0"
      ]
     },
     "execution_count": 58,
     "metadata": {},
     "output_type": "execute_result"
    }
   ],
   "source": [
    "# (Optional Step) A different way to visualize it: Slicing the dataframe\n",
    "csv_data.loc[csv_data['PL Change'] == Largest_decrease]"
   ]
  },
  {
   "cell_type": "code",
   "execution_count": 59,
   "id": "55a8aae2-f327-433b-bc0e-123c07251d64",
   "metadata": {
    "tags": []
   },
   "outputs": [
    {
     "name": "stdout",
     "output_type": "stream",
     "text": [
      "Financial Analysis\n",
      "------------------------------\n",
      "Total Months: 86\n",
      "Total: $38382578\n",
      "Average Change: -2315.12\n",
      "Greatest Increase in Profits: Feb-2012 ($1926159.0)\n",
      "Greatest Decrease in Profits: Sep-2013 ($-2196167.0)\n"
     ]
    }
   ],
   "source": [
    "print(\"Financial Analysis\")\n",
    "print(\"------------------------------\")\n",
    "print(f\"Total Months: {Total_Months}\")\n",
    "print(f\"Total: ${Total}\")\n",
    "print(f\"Average Change: {F_Ave_PL_changes}\")\n",
    "print(f\"Greatest Increase in Profits: {y[0]} (${Largest_increase})\")\n",
    "print(f\"Greatest Decrease in Profits: {v[0]} (${Largest_decrease})\")"
   ]
  },
  {
   "cell_type": "code",
   "execution_count": 60,
   "id": "9abdf7ab-792e-421c-80ed-c951134c5c39",
   "metadata": {
    "tags": []
   },
   "outputs": [
    {
     "name": "stdout",
     "output_type": "stream",
     "text": [
      "Current working directory: C:\\Users\\frank\\Desktop\\python-homework\\PyBank\n"
     ]
    }
   ],
   "source": [
    "print(f\"Current working directory: {Path.cwd()}\")"
   ]
  },
  {
   "cell_type": "code",
   "execution_count": 62,
   "id": "23c4c5b2-0be6-41da-bb90-622a0d7057cf",
   "metadata": {},
   "outputs": [],
   "source": [
    "output_path = Path(\"outputfile.txt\")\n",
    "with open(output_path, 'w') as file:\n",
    "    file.write(\"This is my output file. \\n\")\n",
    "    file.write(\"Financial Analysis\\n\")\n",
    "    file.write(\"------------------------------\\n\")\n",
    "    file.write(f\"Total Months: {Total_Months}\\n\")\n",
    "    file.write(f\"Total: ${Total}\\n\")\n",
    "    file.write(f\"Average Change: {F_Ave_PL_changes}\\n\")\n",
    "    file.write(f\"Greatest Increase in Profits: {y[0]} (${Largest_increase})\\n\")\n",
    "    file.write(f\"Greatest Decrease in Profits: {v[0]} (${Largest_decrease})\\n\")\n",
    "   "
   ]
  },
  {
   "cell_type": "code",
   "execution_count": 201,
   "id": "045d9486-703d-440c-8d0f-c0f112a09f42",
   "metadata": {},
   "outputs": [],
   "source": [
    "# #Your resulting analysis should look similar to the following:\n",
    "\n",
    "#   ```text\n",
    "#   Financial Analysis\n",
    "#   ----------------------------\n",
    "#   Total Months: 86\n",
    "#   Total: $38382578\n",
    "#   Average  Change: $-2315.12\n",
    "#   Greatest Increase in Profits: Feb-2012 ($1926159)\n",
    "#   Greatest Decrease in Profits: Sep-2013 ($-2196167)\n",
    "#   ```\n",
    "\n",
    "# Your final script should print the analysis to the terminal and export a text file with the results."
   ]
  }
 ],
 "metadata": {
  "kernelspec": {
   "display_name": "Python 3",
   "language": "python",
   "name": "python3"
  },
  "language_info": {
   "codemirror_mode": {
    "name": "ipython",
    "version": 3
   },
   "file_extension": ".py",
   "mimetype": "text/x-python",
   "name": "python",
   "nbconvert_exporter": "python",
   "pygments_lexer": "ipython3",
   "version": "3.8.8"
  }
 },
 "nbformat": 4,
 "nbformat_minor": 5
}
