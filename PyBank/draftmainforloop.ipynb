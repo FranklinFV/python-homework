{
 "cells": [
  {
   "cell_type": "code",
   "execution_count": 11,
   "id": "bb81a1ea-6a27-42c4-86e7-5db6629447f2",
   "metadata": {},
   "outputs": [],
   "source": [
    "# 1. Import Path from pathlib Library\n",
    "from pathlib import Path\n",
    "import csv"
   ]
  },
  {
   "cell_type": "code",
   "execution_count": 12,
   "id": "0707aadd-4f74-4dfa-b7ac-05239f03e2ad",
   "metadata": {},
   "outputs": [],
   "source": [
    "#2. Set the file path\n",
    "csv_path = Path(\"Resources/budget_data.csv\")"
   ]
  },
  {
   "cell_type": "code",
   "execution_count": 69,
   "id": "8f5a3b11-ab78-4098-be21-1e811b92d9cc",
   "metadata": {},
   "outputs": [],
   "source": [
    "# 2. Load CSV file\n",
    "csv_path = Path(\"Resources/budget_data.csv\")\n",
    "# csv_data = pd.read_csv(csv_path)\n",
    "# #(Optional)\n",
    "# csv_data.head()"
   ]
  },
  {
   "cell_type": "code",
   "execution_count": 77,
   "id": "7e96f6f6-8802-4326-9221-2b36f02118ca",
   "metadata": {},
   "outputs": [],
   "source": [
    "# Initialize variable to hold profit and losses\n",
    "profitlosses = []\n",
    "line_num = 0"
   ]
  },
  {
   "cell_type": "code",
   "execution_count": 88,
   "id": "38a2d818-8d19-4284-81f4-ba4c3e9a42c0",
   "metadata": {},
   "outputs": [
    {
     "name": "stdout",
     "output_type": "stream",
     "text": [
      "<class '_csv.reader'>\n",
      "[867884, 984655, 322013, -69417, 310503, 522857, 1033096, 604885, -216386, 477532, 893810, -80353, 779806, -335203, 697845, 793163, 485070, 584122, 62729, 668179, 899906, 834719, 132003, 309978, -755566, 1170593, 252788, 1151518, 817256, 570757, 506702, -1022534, 475062, 779976, 144175, 542494, 359333, 321469, 67780, 471435, 565603, 872480, 789480, 999942, -1196225, 268997, -687986, 1150461, 682458, 617856, 824098, 581943, 132864, 448062, 689161, 800701, 1166643, 947333, 578668, 988505, 1139715, 1029471, 687533, -524626, 158620, 87795, 423389, 840723, 568529, 332067, 989499, 778237, 650000, -1100387, -174946, 757143, 445709, 712961, -1163797, 569899, 768450, 102685, 795914, 60988, 138230, 671099, 867884, 984655, 322013, -69417, 310503, 522857, 1033096, 604885, -216386, 477532, 893810, -80353, 779806, -335203, 697845, 793163, 485070, 584122, 62729, 668179, 899906, 834719, 132003, 309978, -755566, 1170593, 252788, 1151518, 817256, 570757, 506702, -1022534, 475062, 779976, 144175, 542494, 359333, 321469, 67780, 471435, 565603, 872480, 789480, 999942, -1196225, 268997, -687986, 1150461, 682458, 617856, 824098, 581943, 132864, 448062, 689161, 800701, 1166643, 947333, 578668, 988505, 1139715, 1029471, 687533, -524626, 158620, 87795, 423389, 840723, 568529, 332067, 989499, 778237, 650000, -1100387, -174946, 757143, 445709, 712961, -1163797, 569899, 768450, 102685, 795914, 60988, 138230, 671099, 867884, 984655, 322013, -69417, 310503, 522857, 1033096, 604885, -216386, 477532, 893810, -80353, 779806, -335203, 697845, 793163, 485070, 584122, 62729, 668179, 899906, 834719, 132003, 309978, -755566, 1170593, 252788, 1151518, 817256, 570757, 506702, -1022534, 475062, 779976, 144175, 542494, 359333, 321469, 67780, 471435, 565603, 872480, 789480, 999942, -1196225, 268997, -687986, 1150461, 682458, 617856, 824098, 581943, 132864, 448062, 689161, 800701, 1166643, 947333, 578668, 988505, 1139715, 1029471, 687533, -524626, 158620, 87795, 423389, 840723, 568529, 332067, 989499, 778237, 650000, -1100387, -174946, 757143, 445709, 712961, -1163797, 569899, 768450, 102685, 795914, 60988, 138230, 671099, 867884, 984655, 322013, -69417, 310503, 522857, 1033096, 604885, -216386, 477532, 893810, -80353, 779806, -335203, 697845, 793163, 485070, 584122, 62729, 668179, 899906, 834719, 132003, 309978, -755566, 1170593, 252788, 1151518, 817256, 570757, 506702, -1022534, 475062, 779976, 144175, 542494, 359333, 321469, 67780, 471435, 565603, 872480, 789480, 999942, -1196225, 268997, -687986, 1150461, 682458, 617856, 824098, 581943, 132864, 448062, 689161, 800701, 1166643, 947333, 578668, 988505, 1139715, 1029471, 687533, -524626, 158620, 87795, 423389, 840723, 568529, 332067, 989499, 778237, 650000, -1100387, -174946, 757143, 445709, 712961, -1163797, 569899, 768450, 102685, 795914, 60988, 138230, 671099, 867884, 984655, 322013, -69417, 310503, 522857, 1033096, 604885, -216386, 477532, 893810, -80353, 779806, -335203, 697845, 793163, 485070, 584122, 62729, 668179, 899906, 834719, 132003, 309978, -755566, 1170593, 252788, 1151518, 817256, 570757, 506702, -1022534, 475062, 779976, 144175, 542494, 359333, 321469, 67780, 471435, 565603, 872480, 789480, 999942, -1196225, 268997, -687986, 1150461, 682458, 617856, 824098, 581943, 132864, 448062, 689161, 800701, 1166643, 947333, 578668, 988505, 1139715, 1029471, 687533, -524626, 158620, 87795, 423389, 840723, 568529, 332067, 989499, 778237, 650000, -1100387, -174946, 757143, 445709, 712961, -1163797, 569899, 768450, 102685, 795914, 60988, 138230, 671099, 671099]\n"
     ]
    }
   ],
   "source": [
    "# Open the input path as a file object\n",
    "with open(csv_path, 'r') as csvbudget:\n",
    "    #print(type(csvbudget))\n",
    "    # Pass in the csv file to the csv.reader() function\n",
    "    # (with ',' as the delmiter/separator) and return the csvreader object\n",
    "    budgetreader = csv.reader(csvbudget, delimiter=',')\n",
    "    # Print the datatype of the csvreader\n",
    "    print(type(budgetreader))\n",
    "    # Go to the next row from the start of the file\n",
    "    # (which is often the first row/header) \n",
    "    budgetheader = next(budgetreader)\n",
    "    line_num += 1\n",
    "    # Print the header\n",
    "    #print(f\"{budgetheader} <---- HEADER FOR BUDGET DATA\")\n",
    "\n",
    "    \n",
    "    # Read each row of data after the header\n",
    "    for row in budgetreader:\n",
    "        # Print the row\n",
    "        #print(row)\n",
    "        eachpl = int(row[1])\n",
    "#         print(eachpl)\n",
    "    profitlosses.append(eachpl)\n",
    "print(profitlosses)\n",
    "        \n",
    " "
   ]
  },
  {
   "cell_type": "code",
   "execution_count": 83,
   "id": "c1027ebc-b71a-4c81-83fa-8f2d3a2e2542",
   "metadata": {
    "tags": []
   },
   "outputs": [],
   "source": [
    "# Initialize metric variables\n",
    "total_months = 0\n",
    "total = 0\n",
    "avg_change = 0\n",
    "max_increase = 0\n",
    "max_decrease = 0"
   ]
  },
  {
   "cell_type": "code",
   "execution_count": 86,
   "id": "c3ced3fb-c232-4a6a-80ef-84f309160cbc",
   "metadata": {},
   "outputs": [
    {
     "name": "stdout",
     "output_type": "stream",
     "text": [
      "153530312\n"
     ]
    }
   ],
   "source": [
    "# Calculate the max, mean, and average of the list of salaries\n",
    "for eachpl in profitlosses:\n",
    "\n",
    "    # Sum the total and count variables\n",
    "    total_months += 1\n",
    "    total += eachpl\n",
    "#     total_salary += salary\n",
    "#     count_salary += 1\n",
    "\n",
    "#     # Logic to determine min and max salaries\n",
    "#     if min_salary == 0:\n",
    "#         min_salary = salary\n",
    "#     elif salary > max_salary:\n",
    "#         max_salary = salary\n",
    "#     elif salary < min_salary:\n",
    "#         min_salary = salary\n",
    "print(total)"
   ]
  },
  {
   "cell_type": "code",
   "execution_count": 29,
   "id": "db383fca-ce10-40d9-b247-32690d599f55",
   "metadata": {
    "tags": []
   },
   "outputs": [],
   "source": [
    "# ```text\n",
    "#   Financial Analysis\n",
    "#   ----------------------------\n",
    "#   Total Months: 86\n",
    "#   Total: $38382578\n",
    "#   Average  Change: $-2315.12\n",
    "#   Greatest Increase in Profits: Feb-2012 ($1926159)\n",
    "#   Greatest Decrease in Profits: Sep-2013 ($-2196167)\n",
    "#   ```"
   ]
  },
  {
   "cell_type": "code",
   "execution_count": 8,
   "id": "18a1ea19-62f7-45b8-9f1d-68bd901bbf65",
   "metadata": {},
   "outputs": [
    {
     "name": "stdout",
     "output_type": "stream",
     "text": [
      "Total Months: 86\n"
     ]
    }
   ],
   "source": [
    "# 4. Identify the number of months\n",
    "Total_Months = csv_data['Date'].count()\n",
    "print(f\"Total Months: {Total_Months}\")"
   ]
  },
  {
   "cell_type": "code",
   "execution_count": null,
   "id": "75ac45af-1d18-4d44-acff-63aa884065a8",
   "metadata": {},
   "outputs": [],
   "source": []
  }
 ],
 "metadata": {
  "kernelspec": {
   "display_name": "Python 3",
   "language": "python",
   "name": "python3"
  },
  "language_info": {
   "codemirror_mode": {
    "name": "ipython",
    "version": 3
   },
   "file_extension": ".py",
   "mimetype": "text/x-python",
   "name": "python",
   "nbconvert_exporter": "python",
   "pygments_lexer": "ipython3",
   "version": "3.8.8"
  }
 },
 "nbformat": 4,
 "nbformat_minor": 5
}
